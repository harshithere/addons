{
  "nbformat": 4,
  "nbformat_minor": 0,
  "metadata": {
    "colab": {
      "name": "metrics_hammingloss.ipynb",
      "provenance": [],
      "collapsed_sections": [],
      "authorship_tag": "ABX9TyNHhFxVlXnFaydJ8uvek0YQ",
      "include_colab_link": true
    },
    "kernelspec": {
      "name": "python3",
      "display_name": "Python 3"
    }
  },
  "cells": [
    {
      "cell_type": "markdown",
      "metadata": {
        "id": "view-in-github",
        "colab_type": "text"
      },
      "source": [
        "<a href=\"https://colab.research.google.com/github/harshithere/addons/blob/hammingloss/docs/tutorials/metrics_hammingloss.ipynb\" target=\"_parent\"><img src=\"https://colab.research.google.com/assets/colab-badge.svg\" alt=\"Open In Colab\"/></a>"
      ]
    },
    {
      "cell_type": "code",
      "metadata": {
        "id": "lP7nNv2r0w98",
        "colab_type": "code",
        "cellView": "code",
        "colab": {}
      },
      "source": [
        "#@title Licensed under the Apache License, Version 2.0\n",
        "# you may not use this file except in compliance with the License.\n",
        "# You may obtain a copy of the License at\n",
        "#\n",
        "# https://www.apache.org/licenses/LICENSE-2.0\n",
        "#\n",
        "# Unless required by applicable law or agreed to in writing, software\n",
        "# distributed under the License is distributed on an \"AS IS\" BASIS,\n",
        "# WITHOUT WARRANTIES OR CONDITIONS OF ANY KIND, either express or implied.\n",
        "# See the License for the specific language governing permissions and\n",
        "# limitations under the License."
      ],
      "execution_count": null,
      "outputs": []
    },
    {
      "cell_type": "markdown",
      "metadata": {
        "id": "ekfWwD538s76",
        "colab_type": "text"
      },
      "source": [
        "# Title"
      ]
    },
    {
      "cell_type": "markdown",
      "metadata": {
        "id": "9i2hCcIy82ez",
        "colab_type": "text"
      },
      "source": [
        "<table class=\"tfa-notebook-buttons\" align=\"left\">\n",
        "  <td>\n",
        "    <a target=\"_blank\" href=\"https://www.tensorflow.org/addons/tutorials/metrics_hammingloss\"><img src=\"https://www.tensorflow.org/images/tf_logo_32px.png\" />View on TensorFlow.org</a>\n",
        "  </td>\n",
        "  <td>\n",
        "    <a target=\"_blank\" href=\"https://colab.research.google.com/github/tensorflow/addons/blob/master/docs/tutorials/metrics_hammingloss.ipynb\"><img src=\"https://www.tensorflow.org/images/colab_logo_32px.png\" />Run in Google Colab</a>\n",
        "  </td>\n",
        "  <td>\n",
        "    <a target=\"_blank\" href=\"https://github.com/tensorflow/addons/blob/master/docs/tutorials/metrics_hammingloss.ipynb\"><img src=\"https://www.tensorflow.org/images/GitHub-Mark-32px.png\" />View source on GitHub</a>\n",
        "  </td>\n",
        "      <td>\n",
        "    <a href=\"https://storage.googleapis.com/tensorflow_docs/docs/docs/tutorials/_template.ipynb\"><img src=\"https://www.tensorflow.org/images/download_logo_32px.png\" />Download notebook</a>\n",
        "  </td>\n",
        "</table>"
      ]
    },
    {
      "cell_type": "markdown",
      "metadata": {
        "id": "lyI3jNSn8pOr",
        "colab_type": "text"
      },
      "source": [
        "## Overview\n",
        "\n",
        "This notebook explains how to use the Hamming loss as a metric for training multilabel models\n",
        "\n",
        "### Hamming Loss\n",
        "In multilabel classification, more than one labels can be the correct output for each input sample. Thus, the loss and accuracy metrics are chosen such that they can effectively represent the case when the output is partially correct. Since binary or categorical accuracies fall sort in this regard, we use the hamming loss\n",
        "\n",
        "Hamming loss is defined as the number of misclassified labels to the total number of labels. The ideal value of this is naturally 0"
      ]
    },
    {
      "cell_type": "markdown",
      "metadata": {
        "id": "edftrdV1GfSd",
        "colab_type": "text"
      },
      "source": [
        "## Resources\n",
        "\n",
        "https://www.tensorflow.org/addons/api_docs/python/tfa/metrics/HammingLoss <br>\n",
        "https://en.wikipedia.org/wiki/Multi-label_classification"
      ]
    },
    {
      "cell_type": "markdown",
      "metadata": {
        "id": "xJAmtlxjFGf7",
        "colab_type": "text"
      },
      "source": [
        "## Setup"
      ]
    },
    {
      "cell_type": "code",
      "metadata": {
        "id": "j9PS1ldhACzO",
        "colab_type": "code",
        "colab": {}
      },
      "source": [
        "import tensorflow as tf\n",
        "import tensorflow_addons as tfa\n",
        "import numpy as np\n",
        "import random\n",
        "from matplotlib import pyplot as plt\n",
        "\n",
        "from tensorflow.keras.models import Model, Sequential\n",
        "from tensorflow.keras.layers import Dense\n",
        "from tensorflow_addons.metrics import HammingLoss"
      ],
      "execution_count": null,
      "outputs": []
    },
    {
      "cell_type": "markdown",
      "metadata": {
        "id": "Ygl-TT5XH-6c",
        "colab_type": "text"
      },
      "source": [
        "## Creat dummy dataset"
      ]
    },
    {
      "cell_type": "code",
      "metadata": {
        "id": "X4c1Jz6MAJ9z",
        "colab_type": "code",
        "colab": {}
      },
      "source": [
        "# Create random input with 1000 samples and 10 features\n",
        "X = np.random.rand(1000, 10)\n",
        "\n",
        "# Create random output with 6 labels (2 correct labels)\n",
        "Y = []\n",
        "for i in range(0, 1000):\n",
        "    res = [0]*6\n",
        "    n = random.randint(0,5)\n",
        "    m = random.randint(0,5)\n",
        "    res[n], res[m] = 1, 1\n",
        "    Y.append(res)\n",
        "Y = np.array(Y)"
      ],
      "execution_count": null,
      "outputs": []
    },
    {
      "cell_type": "markdown",
      "metadata": {
        "id": "-EmuaBVdIF7i",
        "colab_type": "text"
      },
      "source": [
        "## Model build and compile\n",
        "\n",
        "Note: Since the loss is not continuous, it cannot be used as the loss function for model training. A good choice is using 'binary_crossentropy' as the loss function and the HammingLoss as the evaluation criteria for callbacks like EarlyStopping, ReduceLROnPlateau"
      ]
    },
    {
      "cell_type": "code",
      "metadata": {
        "id": "tPWwm5WAAKdO",
        "colab_type": "code",
        "colab": {}
      },
      "source": [
        "# Fitting the model\n",
        "model = Sequential()\n",
        "model.add(Dense(8, input_dim=X.shape[1], activation='relu'))\n",
        "model.add(Dense(6, activation='sigmoid'))\n",
        "model.compile(loss='binary_crossentropy', optimizer='adam', metrics=[HammingLoss(threshold=0.5, mode='multilabel')])\n",
        "history = model.fit(X, Y, epochs=10, batch_size=128, validation_split=0.1)"
      ],
      "execution_count": null,
      "outputs": []
    },
    {
      "cell_type": "code",
      "metadata": {
        "id": "igN8Qav5N1Yv",
        "colab_type": "code",
        "colab": {}
      },
      "source": [
        "plt.plot(range(len(history.history[\"val_hamming_loss\"])), history.history[\"val_hamming_loss\"],\n",
        "             color='red', label='Validation hamming loss')\n",
        "plt.title('Validation Hamming loss')\n",
        "plt.show()"
      ],
      "execution_count": null,
      "outputs": []
    }
  ]
}